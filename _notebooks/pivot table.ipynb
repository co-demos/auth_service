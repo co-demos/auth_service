{
 "cells": [
  {
   "cell_type": "markdown",
   "metadata": {},
   "source": [
    "## pivot list of nested dicts - panda"
   ]
  },
  {
   "cell_type": "markdown",
   "metadata": {},
   "source": [
    "- cf : https://www.dataquest.io/blog/pandas-pivot-table/\n",
    "- cf : https://pandas.pydata.org/pandas-docs/stable/generated/pandas.DataFrame.set_index.html\n",
    "- cf : https://stackoverflow.com/questions/47152691/how-to-pivot-a-dataframe\n",
    "- cf : https://stackoverflow.com/questions/28337117/how-to-pivot-a-dataframe-in-pandas\n",
    "- cf : https://pandas.pydata.org/pandas-docs/stable/generated/pandas.pivot_table.html\n",
    "- cf : https://pandas.pydata.org/pandas-docs/stable/generated/pandas.DataFrame.to_dict.html\n"
   ]
  },
  {
   "cell_type": "markdown",
   "metadata": {},
   "source": [
    "also in JS (transpose) :\n",
    "- cf : https://stackoverflow.com/questions/42880867/javascript-transpose-an-array-of-objects\n"
   ]
  },
  {
   "cell_type": "code",
   "execution_count": 1,
   "metadata": {},
   "outputs": [],
   "source": [
    "import pandas as pd\n",
    "from pandas.io.json import json_normalize\n",
    "from pprint import pprint, pformat"
   ]
  },
  {
   "cell_type": "code",
   "execution_count": 93,
   "metadata": {},
   "outputs": [],
   "source": [
    "data = [\n",
    "    {\n",
    "        \"_id\" : \"id_\",\n",
    "        \"infos\" : {\n",
    "            \"title\" : \"title_\",\n",
    "            \"description\" : \"description_\"\n",
    "        },\n",
    "        \"public_auth\" : {\n",
    "            \"open_level_edit\" : \"open_level_\", \n",
    "        },\n",
    "    },\n",
    "    {\n",
    "        \"_id\" : \"id_AAA\",\n",
    "        \"infos\" : {\n",
    "            \"title\" : \"title_A\",\n",
    "            \"description\" : \"descr_A\"\n",
    "        },\n",
    "        \"public_auth\" : {\n",
    "            \"open_level_edit\" : \"open_level_A\", \n",
    "        },\n",
    "    },\n",
    "    {\n",
    "        \"_id\" : \"id_BBB\",\n",
    "        \"infos\" : {\n",
    "            \"title\" : \"title_B\",\n",
    "            \"description\" : \"descr_B\"\n",
    "        },\n",
    "        \"public_auth\" : {\n",
    "            \"open_level_edit\" : \"open_level_C\", \n",
    "        },\n",
    "    },\n",
    "]"
   ]
  },
  {
   "cell_type": "code",
   "execution_count": 94,
   "metadata": {},
   "outputs": [],
   "source": [
    "# data_df = pd.DataFrame(data)\n",
    "# print data_df"
   ]
  },
  {
   "cell_type": "code",
   "execution_count": 95,
   "metadata": {},
   "outputs": [
    {
     "name": "stdout",
     "output_type": "stream",
     "text": [
      "      _id infos.description infos.title public_auth.open_level_edit\n",
      "0     id_      description_      title_                 open_level_\n",
      "1  id_AAA           descr_A     title_A                open_level_A\n",
      "2  id_BBB           descr_B     title_B                open_level_C\n"
     ]
    }
   ],
   "source": [
    "data_df = json_normalize(data)\n",
    "# data_df = data_df.set_index(\"_id\")\n",
    "print data_df"
   ]
  },
  {
   "cell_type": "code",
   "execution_count": 96,
   "metadata": {},
   "outputs": [
    {
     "name": "stdout",
     "output_type": "stream",
     "text": [
      "[{'_id': 'id_',\n",
      "  'infos.description': 'description_',\n",
      "  'infos.title': 'title_',\n",
      "  'public_auth.open_level_edit': 'open_level_'},\n",
      " {'_id': 'id_AAA',\n",
      "  'infos.description': 'descr_A',\n",
      "  'infos.title': 'title_A',\n",
      "  'public_auth.open_level_edit': 'open_level_A'},\n",
      " {'_id': 'id_BBB',\n",
      "  'infos.description': 'descr_B',\n",
      "  'infos.title': 'title_B',\n",
      "  'public_auth.open_level_edit': 'open_level_C'}]\n"
     ]
    }
   ],
   "source": [
    "pprint (data_df.to_dict('records'))"
   ]
  },
  {
   "cell_type": "code",
   "execution_count": 97,
   "metadata": {},
   "outputs": [
    {
     "name": "stdout",
     "output_type": "stream",
     "text": [
      "       infos.description infos.title public_auth.open_level_edit\n",
      "_id                                                             \n",
      "id_         description_      title_                 open_level_\n",
      "id_AAA           descr_A     title_A                open_level_A\n",
      "id_BBB           descr_B     title_B                open_level_C\n"
     ]
    }
   ],
   "source": [
    "data_df_indexed = data_df.set_index('_id')\n",
    "print data_df_indexed"
   ]
  },
  {
   "cell_type": "code",
   "execution_count": 98,
   "metadata": {},
   "outputs": [
    {
     "name": "stdout",
     "output_type": "stream",
     "text": [
      "{'infos.description': {'id_': 'description_',\n",
      "                       'id_AAA': 'descr_A',\n",
      "                       'id_BBB': 'descr_B'},\n",
      " 'infos.title': {'id_': 'title_', 'id_AAA': 'title_A', 'id_BBB': 'title_B'},\n",
      " 'public_auth.open_level_edit': {'id_': 'open_level_',\n",
      "                                 'id_AAA': 'open_level_A',\n",
      "                                 'id_BBB': 'open_level_C'}}\n"
     ]
    }
   ],
   "source": [
    "### dict with first key==columns, then dict with key==index in nested\n",
    "pprint(data_df_indexed.to_dict())\n",
    "# pprint(data_df_indexed.to_dict('dict'))"
   ]
  },
  {
   "cell_type": "code",
   "execution_count": 99,
   "metadata": {},
   "outputs": [
    {
     "name": "stdout",
     "output_type": "stream",
     "text": [
      "[{'infos.description': 'description_',\n",
      "  'infos.title': 'title_',\n",
      "  'public_auth.open_level_edit': 'open_level_'},\n",
      " {'infos.description': 'descr_A',\n",
      "  'infos.title': 'title_A',\n",
      "  'public_auth.open_level_edit': 'open_level_A'},\n",
      " {'infos.description': 'descr_B',\n",
      "  'infos.title': 'title_B',\n",
      "  'public_auth.open_level_edit': 'open_level_C'}]\n"
     ]
    }
   ],
   "source": [
    "### list of the lines => records with keys==columns\n",
    "pprint(data_df_indexed.to_dict('records'))"
   ]
  },
  {
   "cell_type": "code",
   "execution_count": 100,
   "metadata": {},
   "outputs": [
    {
     "name": "stdout",
     "output_type": "stream",
     "text": [
      "{'infos.description': ['description_', 'descr_A', 'descr_B'],\n",
      " 'infos.title': ['title_', 'title_A', 'title_B'],\n",
      " 'public_auth.open_level_edit': ['open_level_',\n",
      "                                 'open_level_A',\n",
      "                                 'open_level_C']}\n"
     ]
    }
   ],
   "source": [
    "### dict with first key==columns, then list of values\n",
    "pprint(data_df_indexed.to_dict('list'))"
   ]
  },
  {
   "cell_type": "code",
   "execution_count": 101,
   "metadata": {},
   "outputs": [
    {
     "name": "stdout",
     "output_type": "stream",
     "text": [
      "{'columns': ['infos.description',\n",
      "             'infos.title',\n",
      "             'public_auth.open_level_edit'],\n",
      " 'data': [['description_', 'title_', 'open_level_'],\n",
      "          ['descr_A', 'title_A', 'open_level_A'],\n",
      "          ['descr_B', 'title_B', 'open_level_C']],\n",
      " 'index': ['id_', 'id_AAA', 'id_BBB']}\n"
     ]
    }
   ],
   "source": [
    "### dict with first key==columns, then list of values\n",
    "pprint(data_df_indexed.to_dict('split'))"
   ]
  },
  {
   "cell_type": "code",
   "execution_count": 102,
   "metadata": {},
   "outputs": [
    {
     "data": {
      "text/plain": [
       "' not sure here ...'"
      ]
     },
     "execution_count": 102,
     "metadata": {},
     "output_type": "execute_result"
    }
   ],
   "source": [
    "\"\"\" not sure here ...\"\"\""
   ]
  },
  {
   "cell_type": "code",
   "execution_count": 104,
   "metadata": {},
   "outputs": [
    {
     "data": {
      "text/html": [
       "<div>\n",
       "<style>\n",
       "    .dataframe thead tr:only-child th {\n",
       "        text-align: right;\n",
       "    }\n",
       "\n",
       "    .dataframe thead th {\n",
       "        text-align: left;\n",
       "    }\n",
       "\n",
       "    .dataframe tbody tr th {\n",
       "        vertical-align: top;\n",
       "    }\n",
       "</style>\n",
       "<table border=\"1\" class=\"dataframe\">\n",
       "  <thead>\n",
       "    <tr>\n",
       "      <th></th>\n",
       "      <th colspan=\"3\" halign=\"left\">infos.description</th>\n",
       "      <th colspan=\"3\" halign=\"left\">infos.title</th>\n",
       "      <th colspan=\"3\" halign=\"left\">public_auth.open_level_edit</th>\n",
       "    </tr>\n",
       "    <tr>\n",
       "      <th>_id</th>\n",
       "      <th>id_</th>\n",
       "      <th>id_AAA</th>\n",
       "      <th>id_BBB</th>\n",
       "      <th>id_</th>\n",
       "      <th>id_AAA</th>\n",
       "      <th>id_BBB</th>\n",
       "      <th>id_</th>\n",
       "      <th>id_AAA</th>\n",
       "      <th>id_BBB</th>\n",
       "    </tr>\n",
       "  </thead>\n",
       "  <tbody>\n",
       "    <tr>\n",
       "      <th>0</th>\n",
       "      <td>description_</td>\n",
       "      <td>None</td>\n",
       "      <td>None</td>\n",
       "      <td>title_</td>\n",
       "      <td>None</td>\n",
       "      <td>None</td>\n",
       "      <td>open_level_</td>\n",
       "      <td>None</td>\n",
       "      <td>None</td>\n",
       "    </tr>\n",
       "    <tr>\n",
       "      <th>1</th>\n",
       "      <td>None</td>\n",
       "      <td>descr_A</td>\n",
       "      <td>None</td>\n",
       "      <td>None</td>\n",
       "      <td>title_A</td>\n",
       "      <td>None</td>\n",
       "      <td>None</td>\n",
       "      <td>open_level_A</td>\n",
       "      <td>None</td>\n",
       "    </tr>\n",
       "    <tr>\n",
       "      <th>2</th>\n",
       "      <td>None</td>\n",
       "      <td>None</td>\n",
       "      <td>descr_B</td>\n",
       "      <td>None</td>\n",
       "      <td>None</td>\n",
       "      <td>title_B</td>\n",
       "      <td>None</td>\n",
       "      <td>None</td>\n",
       "      <td>open_level_C</td>\n",
       "    </tr>\n",
       "  </tbody>\n",
       "</table>\n",
       "</div>"
      ],
      "text/plain": [
       "    infos.description                   infos.title                    \\\n",
       "_id               id_   id_AAA   id_BBB         id_   id_AAA   id_BBB   \n",
       "0        description_     None     None      title_     None     None   \n",
       "1                None  descr_A     None        None  title_A     None   \n",
       "2                None     None  descr_B        None     None  title_B   \n",
       "\n",
       "    public_auth.open_level_edit                              \n",
       "_id                         id_        id_AAA        id_BBB  \n",
       "0                   open_level_          None          None  \n",
       "1                          None  open_level_A          None  \n",
       "2                          None          None  open_level_C  "
      ]
     },
     "execution_count": 104,
     "metadata": {},
     "output_type": "execute_result"
    }
   ],
   "source": [
    "data_pivoted = data_df.pivot(\n",
    "    index=None, \n",
    "    columns='_id',\n",
    "    values=None\n",
    ")\n",
    "data_pivoted"
   ]
  },
  {
   "cell_type": "code",
   "execution_count": 105,
   "metadata": {},
   "outputs": [
    {
     "data": {
      "text/plain": [
       "{('infos.description', 'id_'): ['description_', None, None],\n",
       " ('infos.description', 'id_AAA'): [None, 'descr_A', None],\n",
       " ('infos.description', 'id_BBB'): [None, None, 'descr_B'],\n",
       " ('infos.title', 'id_'): ['title_', None, None],\n",
       " ('infos.title', 'id_AAA'): [None, 'title_A', None],\n",
       " ('infos.title', 'id_BBB'): [None, None, 'title_B'],\n",
       " ('public_auth.open_level_edit', 'id_'): ['open_level_', None, None],\n",
       " ('public_auth.open_level_edit', 'id_AAA'): [None, 'open_level_A', None],\n",
       " ('public_auth.open_level_edit', 'id_BBB'): [None, None, 'open_level_C']}"
      ]
     },
     "execution_count": 105,
     "metadata": {},
     "output_type": "execute_result"
    }
   ],
   "source": [
    "data_pivoted.to_dict('list')"
   ]
  },
  {
   "cell_type": "code",
   "execution_count": null,
   "metadata": {},
   "outputs": [],
   "source": []
  },
  {
   "cell_type": "code",
   "execution_count": 106,
   "metadata": {},
   "outputs": [],
   "source": [
    "data_expected = [\n",
    "    { \n",
    "        \"id_\" : \"title_\" ,\n",
    "        \"id_AAA\" : \"title_A\" ,\n",
    "        \"id_BBB\" : \"title_B\" ,\n",
    "    },\n",
    "    { \n",
    "        \"id_\" : \"description_\" ,\n",
    "        \"id_AAA\" : \"descr_A\" ,\n",
    "        \"id_BBB\" : \"descr_B\" ,\n",
    "    },\n",
    "    { \n",
    "        \"id_\" : \"open_level_\" ,\n",
    "        \"id_AAA\" : \"open_level_A\" ,\n",
    "        \"id_BBB\" : \"open_level_B\" ,\n",
    "    },\n",
    "]\n"
   ]
  },
  {
   "cell_type": "code",
   "execution_count": 137,
   "metadata": {},
   "outputs": [
    {
     "name": "stdout",
     "output_type": "stream",
     "text": [
      "            id_        id_AAA        id_BBB\n",
      "0        title_       title_A       title_B\n",
      "1  description_       descr_A       descr_B\n",
      "2   open_level_  open_level_A  open_level_B\n"
     ]
    }
   ],
   "source": [
    "data_df_1 = json_normalize(data_expected)\n",
    "#data_df_ = data_df_.set_index('id_')\n",
    "print data_df_1"
   ]
  },
  {
   "cell_type": "code",
   "execution_count": 152,
   "metadata": {},
   "outputs": [
    {
     "name": "stdout",
     "output_type": "stream",
     "text": [
      "{'id_': {0: 'title_', 1: 'description_', 2: 'open_level_'},\n",
      " 'id_AAA': {0: 'title_A', 1: 'descr_A', 2: 'open_level_A'},\n",
      " 'id_BBB': {0: 'title_B', 1: 'descr_B', 2: 'open_level_B'}}\n"
     ]
    }
   ],
   "source": [
    "pprint (data_df_1.to_dict('dict'))"
   ]
  },
  {
   "cell_type": "code",
   "execution_count": 153,
   "metadata": {},
   "outputs": [
    {
     "name": "stdout",
     "output_type": "stream",
     "text": [
      "{'columns': ['id_', 'id_AAA', 'id_BBB'],\n",
      " 'data': [['title_', 'title_A', 'title_B'],\n",
      "          ['description_', 'descr_A', 'descr_B'],\n",
      "          ['open_level_', 'open_level_A', 'open_level_B']],\n",
      " 'index': [0, 1, 2]}\n"
     ]
    }
   ],
   "source": [
    "pprint (data_df_1.to_dict('split'))"
   ]
  },
  {
   "cell_type": "code",
   "execution_count": 138,
   "metadata": {},
   "outputs": [
    {
     "data": {
      "text/html": [
       "<div>\n",
       "<style>\n",
       "    .dataframe thead tr:only-child th {\n",
       "        text-align: right;\n",
       "    }\n",
       "\n",
       "    .dataframe thead th {\n",
       "        text-align: left;\n",
       "    }\n",
       "\n",
       "    .dataframe tbody tr th {\n",
       "        vertical-align: top;\n",
       "    }\n",
       "</style>\n",
       "<table border=\"1\" class=\"dataframe\">\n",
       "  <thead>\n",
       "    <tr>\n",
       "      <th></th>\n",
       "      <th colspan=\"3\" halign=\"left\">id_AAA</th>\n",
       "      <th colspan=\"3\" halign=\"left\">id_BBB</th>\n",
       "    </tr>\n",
       "    <tr>\n",
       "      <th>id_</th>\n",
       "      <th>description_</th>\n",
       "      <th>open_level_</th>\n",
       "      <th>title_</th>\n",
       "      <th>description_</th>\n",
       "      <th>open_level_</th>\n",
       "      <th>title_</th>\n",
       "    </tr>\n",
       "  </thead>\n",
       "  <tbody>\n",
       "    <tr>\n",
       "      <th>0</th>\n",
       "      <td>None</td>\n",
       "      <td>None</td>\n",
       "      <td>title_A</td>\n",
       "      <td>None</td>\n",
       "      <td>None</td>\n",
       "      <td>title_B</td>\n",
       "    </tr>\n",
       "    <tr>\n",
       "      <th>1</th>\n",
       "      <td>descr_A</td>\n",
       "      <td>None</td>\n",
       "      <td>None</td>\n",
       "      <td>descr_B</td>\n",
       "      <td>None</td>\n",
       "      <td>None</td>\n",
       "    </tr>\n",
       "    <tr>\n",
       "      <th>2</th>\n",
       "      <td>None</td>\n",
       "      <td>open_level_A</td>\n",
       "      <td>None</td>\n",
       "      <td>None</td>\n",
       "      <td>open_level_B</td>\n",
       "      <td>None</td>\n",
       "    </tr>\n",
       "  </tbody>\n",
       "</table>\n",
       "</div>"
      ],
      "text/plain": [
       "          id_AAA                              id_BBB                       \n",
       "id_ description_   open_level_   title_ description_   open_level_   title_\n",
       "0           None          None  title_A         None          None  title_B\n",
       "1        descr_A          None     None      descr_B          None     None\n",
       "2           None  open_level_A     None         None  open_level_B     None"
      ]
     },
     "execution_count": 138,
     "metadata": {},
     "output_type": "execute_result"
    }
   ],
   "source": [
    "data_df_2 = data_df_1.pivot(\n",
    "    index=None,\n",
    "    columns='id_',\n",
    "    #values=None\n",
    ")\n",
    "data_df_"
   ]
  },
  {
   "cell_type": "code",
   "execution_count": 139,
   "metadata": {
    "collapsed": true
   },
   "outputs": [
    {
     "ename": "KeyError",
     "evalue": "<type 'object'>",
     "output_type": "error",
     "traceback": [
      "\u001b[0;31m---------------------------------------------------------------------------\u001b[0m",
      "\u001b[0;31mKeyError\u001b[0m                                  Traceback (most recent call last)",
      "\u001b[0;32m<ipython-input-139-9d1fb52d9ca9>\u001b[0m in \u001b[0;36m<module>\u001b[0;34m()\u001b[0m\n\u001b[1;32m      1\u001b[0m data_df_3 = data_df_2.pivot(\n\u001b[1;32m      2\u001b[0m     \u001b[0mindex\u001b[0m\u001b[0;34m=\u001b[0m\u001b[0mNone\u001b[0m\u001b[0;34m,\u001b[0m\u001b[0;34m\u001b[0m\u001b[0m\n\u001b[0;32m----> 3\u001b[0;31m     \u001b[0mcolumns\u001b[0m\u001b[0;34m=\u001b[0m\u001b[0mNone\u001b[0m\u001b[0;34m,\u001b[0m\u001b[0;34m\u001b[0m\u001b[0m\n\u001b[0m\u001b[1;32m      4\u001b[0m     \u001b[0;31m#values=None\u001b[0m\u001b[0;34m\u001b[0m\u001b[0;34m\u001b[0m\u001b[0m\n\u001b[1;32m      5\u001b[0m )\n",
      "\u001b[0;32m/Users/jpy/anaconda2/lib/python2.7/site-packages/pandas/core/frame.pyc\u001b[0m in \u001b[0;36mpivot\u001b[0;34m(self, index, columns, values)\u001b[0m\n\u001b[1;32m   3851\u001b[0m         \"\"\"\n\u001b[1;32m   3852\u001b[0m         \u001b[0;32mfrom\u001b[0m \u001b[0mpandas\u001b[0m\u001b[0;34m.\u001b[0m\u001b[0mcore\u001b[0m\u001b[0;34m.\u001b[0m\u001b[0mreshape\u001b[0m\u001b[0;34m.\u001b[0m\u001b[0mreshape\u001b[0m \u001b[0;32mimport\u001b[0m \u001b[0mpivot\u001b[0m\u001b[0;34m\u001b[0m\u001b[0m\n\u001b[0;32m-> 3853\u001b[0;31m         \u001b[0;32mreturn\u001b[0m \u001b[0mpivot\u001b[0m\u001b[0;34m(\u001b[0m\u001b[0mself\u001b[0m\u001b[0;34m,\u001b[0m \u001b[0mindex\u001b[0m\u001b[0;34m=\u001b[0m\u001b[0mindex\u001b[0m\u001b[0;34m,\u001b[0m \u001b[0mcolumns\u001b[0m\u001b[0;34m=\u001b[0m\u001b[0mcolumns\u001b[0m\u001b[0;34m,\u001b[0m \u001b[0mvalues\u001b[0m\u001b[0;34m=\u001b[0m\u001b[0mvalues\u001b[0m\u001b[0;34m)\u001b[0m\u001b[0;34m\u001b[0m\u001b[0m\n\u001b[0m\u001b[1;32m   3854\u001b[0m \u001b[0;34m\u001b[0m\u001b[0m\n\u001b[1;32m   3855\u001b[0m     \u001b[0;32mdef\u001b[0m \u001b[0mstack\u001b[0m\u001b[0;34m(\u001b[0m\u001b[0mself\u001b[0m\u001b[0;34m,\u001b[0m \u001b[0mlevel\u001b[0m\u001b[0;34m=\u001b[0m\u001b[0;34m-\u001b[0m\u001b[0;36m1\u001b[0m\u001b[0;34m,\u001b[0m \u001b[0mdropna\u001b[0m\u001b[0;34m=\u001b[0m\u001b[0mTrue\u001b[0m\u001b[0;34m)\u001b[0m\u001b[0;34m:\u001b[0m\u001b[0;34m\u001b[0m\u001b[0m\n",
      "\u001b[0;32m/Users/jpy/anaconda2/lib/python2.7/site-packages/pandas/core/reshape/reshape.pyc\u001b[0m in \u001b[0;36mpivot\u001b[0;34m(self, index, columns, values)\u001b[0m\n\u001b[1;32m    367\u001b[0m         \u001b[0mcols\u001b[0m \u001b[0;34m=\u001b[0m \u001b[0;34m[\u001b[0m\u001b[0mcolumns\u001b[0m\u001b[0;34m]\u001b[0m \u001b[0;32mif\u001b[0m \u001b[0mindex\u001b[0m \u001b[0;32mis\u001b[0m \u001b[0mNone\u001b[0m \u001b[0;32melse\u001b[0m \u001b[0;34m[\u001b[0m\u001b[0mindex\u001b[0m\u001b[0;34m,\u001b[0m \u001b[0mcolumns\u001b[0m\u001b[0;34m]\u001b[0m\u001b[0;34m\u001b[0m\u001b[0m\n\u001b[1;32m    368\u001b[0m         \u001b[0mappend\u001b[0m \u001b[0;34m=\u001b[0m \u001b[0mindex\u001b[0m \u001b[0;32mis\u001b[0m \u001b[0mNone\u001b[0m\u001b[0;34m\u001b[0m\u001b[0m\n\u001b[0;32m--> 369\u001b[0;31m         \u001b[0mindexed\u001b[0m \u001b[0;34m=\u001b[0m \u001b[0mself\u001b[0m\u001b[0;34m.\u001b[0m\u001b[0mset_index\u001b[0m\u001b[0;34m(\u001b[0m\u001b[0mcols\u001b[0m\u001b[0;34m,\u001b[0m \u001b[0mappend\u001b[0m\u001b[0;34m=\u001b[0m\u001b[0mappend\u001b[0m\u001b[0;34m)\u001b[0m\u001b[0;34m\u001b[0m\u001b[0m\n\u001b[0m\u001b[1;32m    370\u001b[0m         \u001b[0;32mreturn\u001b[0m \u001b[0mindexed\u001b[0m\u001b[0;34m.\u001b[0m\u001b[0munstack\u001b[0m\u001b[0;34m(\u001b[0m\u001b[0mcolumns\u001b[0m\u001b[0;34m)\u001b[0m\u001b[0;34m\u001b[0m\u001b[0m\n\u001b[1;32m    371\u001b[0m     \u001b[0;32melse\u001b[0m\u001b[0;34m:\u001b[0m\u001b[0;34m\u001b[0m\u001b[0m\n",
      "\u001b[0;32m/Users/jpy/anaconda2/lib/python2.7/site-packages/pandas/core/frame.pyc\u001b[0m in \u001b[0;36mset_index\u001b[0;34m(self, keys, drop, append, inplace, verify_integrity)\u001b[0m\n\u001b[1;32m   2828\u001b[0m                 \u001b[0mnames\u001b[0m\u001b[0;34m.\u001b[0m\u001b[0mappend\u001b[0m\u001b[0;34m(\u001b[0m\u001b[0mNone\u001b[0m\u001b[0;34m)\u001b[0m\u001b[0;34m\u001b[0m\u001b[0m\n\u001b[1;32m   2829\u001b[0m             \u001b[0;32melse\u001b[0m\u001b[0;34m:\u001b[0m\u001b[0;34m\u001b[0m\u001b[0m\n\u001b[0;32m-> 2830\u001b[0;31m                 \u001b[0mlevel\u001b[0m \u001b[0;34m=\u001b[0m \u001b[0mframe\u001b[0m\u001b[0;34m[\u001b[0m\u001b[0mcol\u001b[0m\u001b[0;34m]\u001b[0m\u001b[0;34m.\u001b[0m\u001b[0m_values\u001b[0m\u001b[0;34m\u001b[0m\u001b[0m\n\u001b[0m\u001b[1;32m   2831\u001b[0m                 \u001b[0mnames\u001b[0m\u001b[0;34m.\u001b[0m\u001b[0mappend\u001b[0m\u001b[0;34m(\u001b[0m\u001b[0mcol\u001b[0m\u001b[0;34m)\u001b[0m\u001b[0;34m\u001b[0m\u001b[0m\n\u001b[1;32m   2832\u001b[0m                 \u001b[0;32mif\u001b[0m \u001b[0mdrop\u001b[0m\u001b[0;34m:\u001b[0m\u001b[0;34m\u001b[0m\u001b[0m\n",
      "\u001b[0;32m/Users/jpy/anaconda2/lib/python2.7/site-packages/pandas/core/frame.pyc\u001b[0m in \u001b[0;36m__getitem__\u001b[0;34m(self, key)\u001b[0m\n\u001b[1;32m   1960\u001b[0m             \u001b[0;32mreturn\u001b[0m \u001b[0mself\u001b[0m\u001b[0;34m.\u001b[0m\u001b[0m_getitem_frame\u001b[0m\u001b[0;34m(\u001b[0m\u001b[0mkey\u001b[0m\u001b[0;34m)\u001b[0m\u001b[0;34m\u001b[0m\u001b[0m\n\u001b[1;32m   1961\u001b[0m         \u001b[0;32melif\u001b[0m \u001b[0mis_mi_columns\u001b[0m\u001b[0;34m:\u001b[0m\u001b[0;34m\u001b[0m\u001b[0m\n\u001b[0;32m-> 1962\u001b[0;31m             \u001b[0;32mreturn\u001b[0m \u001b[0mself\u001b[0m\u001b[0;34m.\u001b[0m\u001b[0m_getitem_multilevel\u001b[0m\u001b[0;34m(\u001b[0m\u001b[0mkey\u001b[0m\u001b[0;34m)\u001b[0m\u001b[0;34m\u001b[0m\u001b[0m\n\u001b[0m\u001b[1;32m   1963\u001b[0m         \u001b[0;32melse\u001b[0m\u001b[0;34m:\u001b[0m\u001b[0;34m\u001b[0m\u001b[0m\n\u001b[1;32m   1964\u001b[0m             \u001b[0;32mreturn\u001b[0m \u001b[0mself\u001b[0m\u001b[0;34m.\u001b[0m\u001b[0m_getitem_column\u001b[0m\u001b[0;34m(\u001b[0m\u001b[0mkey\u001b[0m\u001b[0;34m)\u001b[0m\u001b[0;34m\u001b[0m\u001b[0m\n",
      "\u001b[0;32m/Users/jpy/anaconda2/lib/python2.7/site-packages/pandas/core/frame.pyc\u001b[0m in \u001b[0;36m_getitem_multilevel\u001b[0;34m(self, key)\u001b[0m\n\u001b[1;32m   2004\u001b[0m \u001b[0;34m\u001b[0m\u001b[0m\n\u001b[1;32m   2005\u001b[0m     \u001b[0;32mdef\u001b[0m \u001b[0m_getitem_multilevel\u001b[0m\u001b[0;34m(\u001b[0m\u001b[0mself\u001b[0m\u001b[0;34m,\u001b[0m \u001b[0mkey\u001b[0m\u001b[0;34m)\u001b[0m\u001b[0;34m:\u001b[0m\u001b[0;34m\u001b[0m\u001b[0m\n\u001b[0;32m-> 2006\u001b[0;31m         \u001b[0mloc\u001b[0m \u001b[0;34m=\u001b[0m \u001b[0mself\u001b[0m\u001b[0;34m.\u001b[0m\u001b[0mcolumns\u001b[0m\u001b[0;34m.\u001b[0m\u001b[0mget_loc\u001b[0m\u001b[0;34m(\u001b[0m\u001b[0mkey\u001b[0m\u001b[0;34m)\u001b[0m\u001b[0;34m\u001b[0m\u001b[0m\n\u001b[0m\u001b[1;32m   2007\u001b[0m         \u001b[0;32mif\u001b[0m \u001b[0misinstance\u001b[0m\u001b[0;34m(\u001b[0m\u001b[0mloc\u001b[0m\u001b[0;34m,\u001b[0m \u001b[0;34m(\u001b[0m\u001b[0mslice\u001b[0m\u001b[0;34m,\u001b[0m \u001b[0mSeries\u001b[0m\u001b[0;34m,\u001b[0m \u001b[0mnp\u001b[0m\u001b[0;34m.\u001b[0m\u001b[0mndarray\u001b[0m\u001b[0;34m,\u001b[0m \u001b[0mIndex\u001b[0m\u001b[0;34m)\u001b[0m\u001b[0;34m)\u001b[0m\u001b[0;34m:\u001b[0m\u001b[0;34m\u001b[0m\u001b[0m\n\u001b[1;32m   2008\u001b[0m             \u001b[0mnew_columns\u001b[0m \u001b[0;34m=\u001b[0m \u001b[0mself\u001b[0m\u001b[0;34m.\u001b[0m\u001b[0mcolumns\u001b[0m\u001b[0;34m[\u001b[0m\u001b[0mloc\u001b[0m\u001b[0;34m]\u001b[0m\u001b[0;34m\u001b[0m\u001b[0m\n",
      "\u001b[0;32m/Users/jpy/anaconda2/lib/python2.7/site-packages/pandas/core/indexes/multi.pyc\u001b[0m in \u001b[0;36mget_loc\u001b[0;34m(self, key, method)\u001b[0m\n\u001b[1;32m   1978\u001b[0m \u001b[0;34m\u001b[0m\u001b[0m\n\u001b[1;32m   1979\u001b[0m         \u001b[0;32mif\u001b[0m \u001b[0;32mnot\u001b[0m \u001b[0misinstance\u001b[0m\u001b[0;34m(\u001b[0m\u001b[0mkey\u001b[0m\u001b[0;34m,\u001b[0m \u001b[0mtuple\u001b[0m\u001b[0;34m)\u001b[0m\u001b[0;34m:\u001b[0m\u001b[0;34m\u001b[0m\u001b[0m\n\u001b[0;32m-> 1980\u001b[0;31m             \u001b[0mloc\u001b[0m \u001b[0;34m=\u001b[0m \u001b[0mself\u001b[0m\u001b[0;34m.\u001b[0m\u001b[0m_get_level_indexer\u001b[0m\u001b[0;34m(\u001b[0m\u001b[0mkey\u001b[0m\u001b[0;34m,\u001b[0m \u001b[0mlevel\u001b[0m\u001b[0;34m=\u001b[0m\u001b[0;36m0\u001b[0m\u001b[0;34m)\u001b[0m\u001b[0;34m\u001b[0m\u001b[0m\n\u001b[0m\u001b[1;32m   1981\u001b[0m             \u001b[0;32mreturn\u001b[0m \u001b[0m_maybe_to_slice\u001b[0m\u001b[0;34m(\u001b[0m\u001b[0mloc\u001b[0m\u001b[0;34m)\u001b[0m\u001b[0;34m\u001b[0m\u001b[0m\n\u001b[1;32m   1982\u001b[0m \u001b[0;34m\u001b[0m\u001b[0m\n",
      "\u001b[0;32m/Users/jpy/anaconda2/lib/python2.7/site-packages/pandas/core/indexes/multi.pyc\u001b[0m in \u001b[0;36m_get_level_indexer\u001b[0;34m(self, key, level, indexer)\u001b[0m\n\u001b[1;32m   2241\u001b[0m         \u001b[0;32melse\u001b[0m\u001b[0;34m:\u001b[0m\u001b[0;34m\u001b[0m\u001b[0m\n\u001b[1;32m   2242\u001b[0m \u001b[0;34m\u001b[0m\u001b[0m\n\u001b[0;32m-> 2243\u001b[0;31m             \u001b[0mloc\u001b[0m \u001b[0;34m=\u001b[0m \u001b[0mlevel_index\u001b[0m\u001b[0;34m.\u001b[0m\u001b[0mget_loc\u001b[0m\u001b[0;34m(\u001b[0m\u001b[0mkey\u001b[0m\u001b[0;34m)\u001b[0m\u001b[0;34m\u001b[0m\u001b[0m\n\u001b[0m\u001b[1;32m   2244\u001b[0m             \u001b[0;32mif\u001b[0m \u001b[0misinstance\u001b[0m\u001b[0;34m(\u001b[0m\u001b[0mloc\u001b[0m\u001b[0;34m,\u001b[0m \u001b[0mslice\u001b[0m\u001b[0;34m)\u001b[0m\u001b[0;34m:\u001b[0m\u001b[0;34m\u001b[0m\u001b[0m\n\u001b[1;32m   2245\u001b[0m                 \u001b[0;32mreturn\u001b[0m \u001b[0mloc\u001b[0m\u001b[0;34m\u001b[0m\u001b[0m\n",
      "\u001b[0;32m/Users/jpy/anaconda2/lib/python2.7/site-packages/pandas/core/indexes/base.pyc\u001b[0m in \u001b[0;36mget_loc\u001b[0;34m(self, key, method, tolerance)\u001b[0m\n\u001b[1;32m   2442\u001b[0m                 \u001b[0;32mreturn\u001b[0m \u001b[0mself\u001b[0m\u001b[0;34m.\u001b[0m\u001b[0m_engine\u001b[0m\u001b[0;34m.\u001b[0m\u001b[0mget_loc\u001b[0m\u001b[0;34m(\u001b[0m\u001b[0mkey\u001b[0m\u001b[0;34m)\u001b[0m\u001b[0;34m\u001b[0m\u001b[0m\n\u001b[1;32m   2443\u001b[0m             \u001b[0;32mexcept\u001b[0m \u001b[0mKeyError\u001b[0m\u001b[0;34m:\u001b[0m\u001b[0;34m\u001b[0m\u001b[0m\n\u001b[0;32m-> 2444\u001b[0;31m                 \u001b[0;32mreturn\u001b[0m \u001b[0mself\u001b[0m\u001b[0;34m.\u001b[0m\u001b[0m_engine\u001b[0m\u001b[0;34m.\u001b[0m\u001b[0mget_loc\u001b[0m\u001b[0;34m(\u001b[0m\u001b[0mself\u001b[0m\u001b[0;34m.\u001b[0m\u001b[0m_maybe_cast_indexer\u001b[0m\u001b[0;34m(\u001b[0m\u001b[0mkey\u001b[0m\u001b[0;34m)\u001b[0m\u001b[0;34m)\u001b[0m\u001b[0;34m\u001b[0m\u001b[0m\n\u001b[0m\u001b[1;32m   2445\u001b[0m \u001b[0;34m\u001b[0m\u001b[0m\n\u001b[1;32m   2446\u001b[0m         \u001b[0mindexer\u001b[0m \u001b[0;34m=\u001b[0m \u001b[0mself\u001b[0m\u001b[0;34m.\u001b[0m\u001b[0mget_indexer\u001b[0m\u001b[0;34m(\u001b[0m\u001b[0;34m[\u001b[0m\u001b[0mkey\u001b[0m\u001b[0;34m]\u001b[0m\u001b[0;34m,\u001b[0m \u001b[0mmethod\u001b[0m\u001b[0;34m=\u001b[0m\u001b[0mmethod\u001b[0m\u001b[0;34m,\u001b[0m \u001b[0mtolerance\u001b[0m\u001b[0;34m=\u001b[0m\u001b[0mtolerance\u001b[0m\u001b[0;34m)\u001b[0m\u001b[0;34m\u001b[0m\u001b[0m\n",
      "\u001b[0;32mpandas/_libs/index.pyx\u001b[0m in \u001b[0;36mpandas._libs.index.IndexEngine.get_loc\u001b[0;34m()\u001b[0m\n",
      "\u001b[0;32mpandas/_libs/index.pyx\u001b[0m in \u001b[0;36mpandas._libs.index.IndexEngine.get_loc\u001b[0;34m()\u001b[0m\n",
      "\u001b[0;32mpandas/_libs/hashtable_class_helper.pxi\u001b[0m in \u001b[0;36mpandas._libs.hashtable.PyObjectHashTable.get_item\u001b[0;34m()\u001b[0m\n",
      "\u001b[0;32mpandas/_libs/hashtable_class_helper.pxi\u001b[0m in \u001b[0;36mpandas._libs.hashtable.PyObjectHashTable.get_item\u001b[0;34m()\u001b[0m\n",
      "\u001b[0;31mKeyError\u001b[0m: <type 'object'>"
     ]
    }
   ],
   "source": [
    "data_df_3 = data_df_2.pivot(\n",
    "    index=None,\n",
    "    columns=None,\n",
    "    #values=None\n",
    ")\n",
    "data_df_i"
   ]
  },
  {
   "cell_type": "code",
   "execution_count": 143,
   "metadata": {},
   "outputs": [
    {
     "data": {
      "text/plain": [
       "{0: {('id_AAA', 'description_'): None,\n",
       "  ('id_AAA', 'open_level_'): None,\n",
       "  ('id_AAA', 'title_'): 'title_A',\n",
       "  ('id_BBB', 'description_'): None,\n",
       "  ('id_BBB', 'open_level_'): None,\n",
       "  ('id_BBB', 'title_'): 'title_B'},\n",
       " 1: {('id_AAA', 'description_'): 'descr_A',\n",
       "  ('id_AAA', 'open_level_'): None,\n",
       "  ('id_AAA', 'title_'): None,\n",
       "  ('id_BBB', 'description_'): 'descr_B',\n",
       "  ('id_BBB', 'open_level_'): None,\n",
       "  ('id_BBB', 'title_'): None},\n",
       " 2: {('id_AAA', 'description_'): None,\n",
       "  ('id_AAA', 'open_level_'): 'open_level_A',\n",
       "  ('id_AAA', 'title_'): None,\n",
       "  ('id_BBB', 'description_'): None,\n",
       "  ('id_BBB', 'open_level_'): 'open_level_B',\n",
       "  ('id_BBB', 'title_'): None}}"
      ]
     },
     "execution_count": 143,
     "metadata": {},
     "output_type": "execute_result"
    }
   ],
   "source": [
    "data_df_2.to_dict('index')"
   ]
  },
  {
   "cell_type": "code",
   "execution_count": null,
   "metadata": {},
   "outputs": [],
   "source": []
  }
 ],
 "metadata": {
  "kernelspec": {
   "display_name": "Python 3",
   "language": "python",
   "name": "python3"
  },
  "language_info": {
   "codemirror_mode": {
    "name": "ipython",
    "version": 3
   },
   "file_extension": ".py",
   "mimetype": "text/x-python",
   "name": "python",
   "nbconvert_exporter": "python",
   "pygments_lexer": "ipython3",
   "version": "3.6.5"
  }
 },
 "nbformat": 4,
 "nbformat_minor": 2
}
