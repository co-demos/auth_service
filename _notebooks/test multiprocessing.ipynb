{
 "cells": [
  {
   "cell_type": "code",
   "execution_count": 24,
   "metadata": {},
   "outputs": [],
   "source": [
    "import multiprocessing as mp\n",
    "from multiprocessing import cpu_count\n",
    "from time import sleep"
   ]
  },
  {
   "cell_type": "code",
   "execution_count": 25,
   "metadata": {},
   "outputs": [
    {
     "data": {
      "text/plain": [
       "4"
      ]
     },
     "execution_count": 25,
     "metadata": {},
     "output_type": "execute_result"
    }
   ],
   "source": [
    "cpu_count()"
   ]
  },
  {
   "cell_type": "code",
   "execution_count": null,
   "metadata": {},
   "outputs": [],
   "source": []
  },
  {
   "cell_type": "code",
   "execution_count": 34,
   "metadata": {},
   "outputs": [],
   "source": [
    "def my_func_1(x):\n",
    "    print('my_func_1:', x)\n",
    "    sleep(1)  \n",
    "    return x*x"
   ]
  },
  {
   "cell_type": "code",
   "execution_count": 35,
   "metadata": {},
   "outputs": [],
   "source": [
    "def run_pool_map():\n",
    "\n",
    "    input_data = range(10)\n",
    "    with mp.Pool(2) as pool:\n",
    "        result_list = pool.map(my_func_1, input_data)  # Blocks until finished.\n",
    "\n",
    "    print('result_list:', result_list)  # Will be in same order as input_data."
   ]
  },
  {
   "cell_type": "code",
   "execution_count": 36,
   "metadata": {},
   "outputs": [
    {
     "name": "stdout",
     "output_type": "stream",
     "text": [
      "my_func_1: 0\n",
      "my_func_1: 2\n",
      "my_func_1: 3\n",
      "my_func_1: 1\n",
      "my_func_1: 4\n",
      "my_func_1: 6\n",
      "my_func_1: 7\n",
      "my_func_1: 5\n",
      "my_func_1: 8\n",
      "my_func_1: 9\n",
      "result_list: [0, 1, 4, 9, 16, 25, 36, 49, 64, 81]\n"
     ]
    }
   ],
   "source": [
    "run_pool_map()"
   ]
  },
  {
   "cell_type": "code",
   "execution_count": null,
   "metadata": {},
   "outputs": [],
   "source": []
  },
  {
   "cell_type": "code",
   "execution_count": 37,
   "metadata": {},
   "outputs": [],
   "source": [
    "def my_func_2(*args):\n",
    "    print('my_func_2:', args)\n",
    "    index, x = args\n",
    "    sleep(1)\n",
    "    return index, x*x  # Return result index and value."
   ]
  },
  {
   "cell_type": "code",
   "execution_count": 38,
   "metadata": {},
   "outputs": [],
   "source": [
    "def run_pool_apply_async() :\n",
    "\n",
    "    result_list = []\n",
    "\n",
    "    def errorhandler(exc):\n",
    "        print('Exception:', exc)\n",
    "\n",
    "    def log_result(result):\n",
    "        # This is called whenever my_func() returns a result.\n",
    "        # result_list is modified only by the main process, not the pool workers.\n",
    "        result_list.append(result)\n",
    "\n",
    "    pool = mp.Pool(2)\n",
    "    for i in range(10):\n",
    "        pool.apply_async(my_func, args=(i, i*2), callback=log_result,\n",
    "                         error_callback=errorhandler)\n",
    "    pool.close()\n",
    "    pool.join()  # Wait for all subprocesses to finish.\n",
    "\n",
    "    print('result_list:', result_list)\n",
    "    sorted_results = [x[1] for x in sorted(result_list)]\n",
    "    print('sorted results:', sorted_results)"
   ]
  },
  {
   "cell_type": "code",
   "execution_count": 39,
   "metadata": {},
   "outputs": [
    {
     "name": "stdout",
     "output_type": "stream",
     "text": [
      "my_func: (0, 0)\n",
      "my_func: (1, 2)\n",
      "my_func: (2, 4)\n",
      "my_func: (3, 6)\n",
      "my_func: (5, 10)\n",
      "my_func: (4, 8)\n",
      "my_func: (6, 12)\n",
      "my_func: (7, 14)\n",
      "my_func: (8, 16)\n",
      "my_func: (9, 18)\n",
      "result_list: [(0, 0), (1, 4), (2, 16), (3, 36), (5, 100), (4, 64), (6, 144), (7, 196), (8, 256), (9, 324)]\n",
      "sorted results: [0, 4, 16, 36, 64, 100, 144, 196, 256, 324]\n"
     ]
    }
   ],
   "source": [
    "run_pool_apply_async()"
   ]
  },
  {
   "cell_type": "code",
   "execution_count": null,
   "metadata": {},
   "outputs": [],
   "source": []
  },
  {
   "cell_type": "code",
   "execution_count": null,
   "metadata": {},
   "outputs": [],
   "source": []
  }
 ],
 "metadata": {
  "kernelspec": {
   "display_name": "Python 3",
   "language": "python",
   "name": "python3"
  },
  "language_info": {
   "codemirror_mode": {
    "name": "ipython",
    "version": 3
   },
   "file_extension": ".py",
   "mimetype": "text/x-python",
   "name": "python",
   "nbconvert_exporter": "python",
   "pygments_lexer": "ipython3",
   "version": "3.6.5"
  }
 },
 "nbformat": 4,
 "nbformat_minor": 2
}
