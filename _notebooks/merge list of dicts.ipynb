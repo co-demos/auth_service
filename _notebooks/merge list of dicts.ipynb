{
 "cells": [
  {
   "cell_type": "code",
   "execution_count": 25,
   "metadata": {},
   "outputs": [],
   "source": [
    "### merge two lists of dict by common key value"
   ]
  },
  {
   "cell_type": "code",
   "execution_count": 34,
   "metadata": {},
   "outputs": [],
   "source": [
    "a = [{'id': 1, 'name': 'a'}, {'id': 2, 'name': 'b'}, {'id': 3, 'name': 'c'}]"
   ]
  },
  {
   "cell_type": "code",
   "execution_count": 35,
   "metadata": {},
   "outputs": [],
   "source": [
    "b = [{'id': 1, 'age': 12}, {'id': 2, 'age': 21}]"
   ]
  },
  {
   "cell_type": "code",
   "execution_count": 36,
   "metadata": {},
   "outputs": [],
   "source": [
    "### cf : https://codereview.stackexchange.com/questions/74462/merge-two-dict-in-separate-list-by-id\n",
    "from itertools import chain\n",
    "from collections import defaultdict\n",
    "\n",
    "def merge_by_key(dicts, key):\n",
    "    merged = defaultdict(dict)\n",
    "\n",
    "    for dict_ in dicts:\n",
    "        merged[dict_[key]].update(dict_)\n",
    "\n",
    "    return merged.values()"
   ]
  },
  {
   "cell_type": "code",
   "execution_count": 37,
   "metadata": {},
   "outputs": [
    {
     "name": "stdout",
     "output_type": "stream",
     "text": [
      "[{'id': 1, 'age': 12, 'name': 'a'}, {'id': 2, 'age': 21, 'name': 'b'}, {'id': 3, 'name': 'c'}]\n"
     ]
    }
   ],
   "source": [
    "result = list(merge_by_key(chain( b, a), 'id'))\n",
    "print (result)"
   ]
  },
  {
   "cell_type": "code",
   "execution_count": null,
   "metadata": {},
   "outputs": [],
   "source": []
  },
  {
   "cell_type": "code",
   "execution_count": null,
   "metadata": {},
   "outputs": [],
   "source": []
  }
 ],
 "metadata": {
  "kernelspec": {
   "display_name": "Python 3",
   "language": "python",
   "name": "python3"
  },
  "language_info": {
   "codemirror_mode": {
    "name": "ipython",
    "version": 3
   },
   "file_extension": ".py",
   "mimetype": "text/x-python",
   "name": "python",
   "nbconvert_exporter": "python",
   "pygments_lexer": "ipython3",
   "version": "3.6.5"
  }
 },
 "nbformat": 4,
 "nbformat_minor": 2
}
