{
 "cells": [
  {
   "cell_type": "code",
   "execution_count": 53,
   "metadata": {},
   "outputs": [],
   "source": [
    "import requests\n",
    "import json\n",
    "from pprint import pprint, pformat\n",
    "import pandas as pd"
   ]
  },
  {
   "cell_type": "code",
   "execution_count": 54,
   "metadata": {},
   "outputs": [],
   "source": [
    "url = \"http://www.cis-openscraper.com/api/data?search_for=energie&token=test&page_n=2&results_per_page=5\""
   ]
  },
  {
   "cell_type": "code",
   "execution_count": 65,
   "metadata": {},
   "outputs": [],
   "source": [
    "payload = {\n",
    "    \"src_link\"   : url,\n",
    "    \"src_parser\" : \"/query_results\"\n",
    "}"
   ]
  },
  {
   "cell_type": "code",
   "execution_count": 66,
   "metadata": {},
   "outputs": [],
   "source": [
    "src_link = payload[\"src_link\"]"
   ]
  },
  {
   "cell_type": "code",
   "execution_count": 69,
   "metadata": {},
   "outputs": [],
   "source": [
    "src_parser = payload.get(\"src_parser\", \"/\")"
   ]
  },
  {
   "cell_type": "code",
   "execution_count": 70,
   "metadata": {},
   "outputs": [],
   "source": [
    "api_response = requests.get(src_link)"
   ]
  },
  {
   "cell_type": "code",
   "execution_count": 71,
   "metadata": {},
   "outputs": [],
   "source": [
    "api_data = json.loads(api_response.content)"
   ]
  },
  {
   "cell_type": "code",
   "execution_count": 72,
   "metadata": {},
   "outputs": [],
   "source": [
    "api_data = api_response.json()"
   ]
  },
  {
   "cell_type": "code",
   "execution_count": 73,
   "metadata": {},
   "outputs": [
    {
     "name": "stdout",
     "output_type": "stream",
     "text": [
      "['', 'query_results']\n"
     ]
    }
   ],
   "source": [
    "if src_parser != \"/\" :\n",
    "    api_parser = parser.split(\"/\")\n",
    "    print api_parser\n",
    "    for i in api_parser[1:] : \n",
    "        api_data = api_data[i]    "
   ]
  },
  {
   "cell_type": "code",
   "execution_count": 74,
   "metadata": {
    "scrolled": true
   },
   "outputs": [
    {
     "name": "stdout",
     "output_type": "stream",
     "text": [
      "[{u'_id': u'5bcdc4dc3ba14c6ce4c3426e',\n",
      "  u'added_at': 1540211930.055662,\n",
      "  u'adresse du projet': [u'2 633 276 \\u20ac',\n",
      "                         u': Lorraine',\n",
      "                         u'FEDER',\n",
      "                         u'2013',\n",
      "                         u'842 634 \\u20ac',\n",
      "                         u'Lorraine',\n",
      "                         u'FEDER',\n",
      "                         u'2013'],\n",
      "  u'image(s) du projet': [u'http://www.europe-en-france.gouv.fr/var/europe_en_france/storage/images/rendez-vous-compte/projets-exemplaires/le-projet-fibrastral-developpe-une-alternative-a-la-fibre-de-verre/301863-1-fre-FR/Le-projet-Fibrastral-developpe-une-alternative-a-la-fibre-de-verre_projet_pictolisting.jpg',\n",
      "                          u'http://www.europe-en-france.gouv.fr/var/europe_en_france/storage/images/rendez-vous-compte/projets-exemplaires/le-projet-fibrastral-developpe-une-alternative-a-la-fibre-de-verre/301863-1-fre-FR/Le-projet-Fibrastral-developpe-une-alternative-a-la-fibre-de-verre_projet_logo.jpg'],\n",
      "  u'link_data': u'http://www.europe-en-france.gouv.fr/Rendez-vous-compte/Projets-exemplaires/Le-projet-Fibrastral-developpe-une-alternative-a-la-fibre-de-verre/(offset)/10/(viewtheme)/0/(viewregion)/0/(viewfonds)/0/(annee)/0',\n",
      "  u'link_src': u'http://www.europe-en-france.gouv.fr/Rendez-vous-compte/Projets-exemplaires/(offset)/10/(annee)/0/(viewtheme)/0/(viewregion)/0/(viewfonds)/0',\n",
      "  u'partenaires du projet': [u'2 633 276 \\u20ac',\n",
      "                             u': Lorraine',\n",
      "                             u'FEDER',\n",
      "                             u'2013',\n",
      "                             u'842 634 \\u20ac',\n",
      "                             u'Lorraine',\n",
      "                             u'FEDER',\n",
      "                             u'2013'],\n",
      "  u'r\\xe9sum\\xe9 du projet': [u'La fibre de verre, consid\\xe9r\\xe9e comme un mat\\xe9riau polluant, est issue du p\\xe9trole et entre dans la composition de certaines mati\\xe8res plastiques. Cr\\xe9er une alternative \\xe0 cette fibre est une id\\xe9e porteuse et innovante car elle est \\xe0 la fois \\xe9cologique, g\\xe9n\\xe9ratrice d\\u2019\\xe9conomie d\\u2019\\xe9nergie et cr\\xe9atrice d\\u2019emplois. Pour toutes ces raisons, l\\u2019Union europ\\xe9enne a choisi d\\u2019appuyer ce projet \\xe0 hauteur de 842 634 euros, sur un budget total de 2,6 millions d\\u2019euros.'],\n",
      "  u'spider_id': u'5ac3505d0a82860f68d16288',\n",
      "  u'structure porteuse': [u'Th\\xe9matique(s) : Attractivit\\xe9 du territoire ; Les grands projets europ\\xe9ens 2007-2013 ; Services au public ; Transports ; Urbain',\n",
      "                          u'Th\\xe9matique(s) : Attractivit\\xe9 du territoire ; Eco-tourisme',\n",
      "                          u'Th\\xe9matique(s) : Les grands projets europ\\xe9ens 2007-2013 ; TIC',\n",
      "                          u'Th\\xe9matique(s) : Attractivit\\xe9 du territoire ; Recherche et Innovation',\n",
      "                          u'Attractivit\\xe9 du territoire ; Recherche et Innovation',\n",
      "                          u'B\\xe9n\\xe9ficiaire :',\n",
      "                          u'Th\\xe9matique(s) :',\n",
      "                          u'Universit\\xe9 de Lorraine'],\n",
      "  u'tags': [u'Th\\xe9matique(s) : Attractivit\\xe9 du territoire ; Recherche et Innovation',\n",
      "            u'Attractivit\\xe9 du territoire ; Recherche et Innovation',\n",
      "            u'B\\xe9n\\xe9ficiaire :',\n",
      "            u'Th\\xe9matique(s) :',\n",
      "            u'Universit\\xe9 de Lorraine'],\n",
      "  u'titre du projet': [u'Le projet Fibrastral d\\xe9veloppe une alternative \\xe0 la fibre de verre',\n",
      "                       u'Le projet Fibrastral d\\xe9veloppe une alternative \\xe0 la fibre de verre']},\n",
      " {u'_id': u'5bd0895e3ba14c3fada0550e',\n",
      "  u'added_at': 1540392039.045632,\n",
      "  u'adresse du projet': [u'Op\\xe9ration \"Et\\xe9 Jeunes\" pour les 14-16 ans Gers',\n",
      "                         u'32360 Jegun',\n",
      "                         u\"Les d\\xe9put\\xe9s votent la substitution du CNDS par l'Agence nationale du sport et gonflent son budget\",\n",
      "                         u'Lancement de France Num, une plateforme nationale pour accompagner la transformation num\\xe9rique des TPE',\n",
      "                         u'Grande Rue - BP1',\n",
      "                         u'Volet \"finances locales\" : le point apr\\xe8s le vote par les d\\xe9put\\xe9s de la premi\\xe8re partie du texte',\n",
      "                         u\"Enfin des stats sur le poids de l'habitat priv\\xe9 dans les quartiers prioritaires !\"],\n",
      "  u'link_data': u'https://www.caissedesdepotsdesterritoires.fr/cs/ContentServer?pagename=Territoires/MCExperience/Experience&cid=1245645199070',\n",
      "  u'link_src': u'https://www.caissedesdepotsdesterritoires.fr/cs/ContentServer?pagename=Territoires/Page/Base-experiences',\n",
      "  u'r\\xe9sum\\xe9 du projet': [u\"La communaut\\xe9 de communes Coeur de Gascogne a mis en place des chantiers d'une semaine pour les jeunes, pendant les vacances. Le succ\\xe8s aupr\\xe8s des 14-16 ans et de la population est au rendez-vous. Ces chantiers n\\xe9cessitent cependant un suivi et une \\xe9nergie consid\\xe9rables de la part des \\xe9lus et encadrants b\\xe9n\\xe9voles. Des probl\\xe8mes de normes administratives et de s\\xe9curit\\xe9 persistent.\"],\n",
      "  u'spider_id': u'5bc4951d3ba14c5c5620146c',\n",
      "  u'tags': [u'SOCIAL - SANT\\xc9',\n",
      "            u'CAT\\xc9GORIE : EXP\\xc9RIENCES',\n",
      "            u'Social - Sant\\xe9'],\n",
      "  u'titre du projet': [u'Op\\xe9ration \"Et\\xe9 Jeunes\" pour les 14-16 ans']},\n",
      " {u'_id': u'5bd08f1b3ba14c3fada05cd8',\n",
      "  u'added_at': 1540387431.938917,\n",
      "  u'adresse du projet': [u\"A Eaubonne, les jeunes en service civique aident des familles \\xe0 r\\xe9duire leurs factures d'\\xe9nergie (95) Val-d'Oise\",\n",
      "                         u\"H\\xf4tel de Ville, 1 rue d'Enghien\",\n",
      "                         u\"Les d\\xe9put\\xe9s votent la substitution du CNDS par l'Agence nationale du sport et gonflent son budget\",\n",
      "                         u'Lancement de France Num, une plateforme nationale pour accompagner la transformation num\\xe9rique des TPE',\n",
      "                         u'95600 Eaubonne',\n",
      "                         u'Volet \"finances locales\" : le point apr\\xe8s le vote par les d\\xe9put\\xe9s de la premi\\xe8re partie du texte',\n",
      "                         u\"Enfin des stats sur le poids de l'habitat priv\\xe9 dans les quartiers prioritaires !\"],\n",
      "  u'image(s) du projet': [u'https://www.caissedesdepotsdesterritoires.fr/cs/BlobServer?blobkey=id&blobnocache=false&blobwhere=1250170930698&blobcol=urldata&blobtable=MungoBlobs'],\n",
      "  u'link_data': u'https://www.caissedesdepotsdesterritoires.fr/cs/ContentServer?pagename=Territoires/Experiences/Experiences&cid=1250279591681',\n",
      "  u'link_src': u'https://www.caissedesdepotsdesterritoires.fr/cs/ContentServer?pagename=Territoires/Page/Base-experiences',\n",
      "  u'r\\xe9sum\\xe9 du projet': [u'Chaque ann\\xe9e depuis 2014, huit jeunes sont recrut\\xe9s en service civique pendant huit mois sur la ville d\\u2019Eaubonne pour rompre l\\u2019isolement des personnes \\xe2g\\xe9es et aider des familles locataires dans des logements sociaux \\xe0 baisser leurs consommations d\\u2019eau et d\\u2019\\xe9nergie dans une r\\xe9sidence d\\u2019habitat social. Le bilan positif encourage la ville \\xe0 poursuivre.'],\n",
      "  u'spider_id': u'5bc4951d3ba14c5c5620146c',\n",
      "  u'tags': [u'CITOYENNET\\xc9 - ASSOCIATIONS - JEUNESSE',\n",
      "            u'CAT\\xc9GORIE : EXP\\xc9RIENCES',\n",
      "            u'Citoyennet\\xe9 - Associations - Jeunesse'],\n",
      "  u'titre du projet': [u\"A Eaubonne, les jeunes en service civique aident des familles \\xe0 r\\xe9duire leurs factures d'\\xe9nergie (95)\"],\n",
      "  u'website': [u'http://www.eaubonne.fr']},\n",
      " {u'_id': u'5bd08ab53ba14c3fada0575b',\n",
      "  u'added_at': 1540390673.478109,\n",
      "  u'adresse du projet': [u'Le syndicat de pays de Grand-Lieu, Machecoul, Logne forme \\xe9lus et agents au d\\xe9veloppement durable Loire-Atlantique',\n",
      "                         u\"Bouquet d'exp\\xe9riences sur l'Ing\\xe9nierie intercommunale en urbanisme\",\n",
      "                         u'11 rue lejeune',\n",
      "                         u\"Bouquet d'exp\\xe9riences sur la construction de l'urbanisme intercommunal\",\n",
      "                         u\"Les d\\xe9put\\xe9s votent la substitution du CNDS par l'Agence nationale du sport et gonflent son budget\",\n",
      "                         u'Lancement de France Num, une plateforme nationale pour accompagner la transformation num\\xe9rique des TPE',\n",
      "                         u'Volet \"finances locales\" : le point apr\\xe8s le vote par les d\\xe9put\\xe9s de la premi\\xe8re partie du texte',\n",
      "                         u'44650 Corcou\\xe9-sur-Logne',\n",
      "                         u\"Enfin des stats sur le poids de l'habitat priv\\xe9 dans les quartiers prioritaires !\"],\n",
      "  u'link_data': u'https://www.caissedesdepotsdesterritoires.fr/cs/ContentServer?pagename=Territoires/MCExperience/Experience&cid=1250259444877',\n",
      "  u'link_src': u'https://www.caissedesdepotsdesterritoires.fr/cs/ContentServer?pagename=Territoires/Page/Base-experiences',\n",
      "  u'r\\xe9sum\\xe9 du projet': [u'Couvrant un vaste territoire, le syndicat de pays de Grand-Lieu, Machecoul et Logne (Loire-Atlantique) propose \\xe0 ses \\xe9lus et agents un accompagnement complet vers le d\\xe9veloppement durable. Colloques, journ\\xe9es d\\'\\xe9tudes, visites de terrain, charte qualit\\xe9 des nouveaux quartiers et conseil en \\xe9nergie partag\\xe9e et conseil en urbanisme partag\\xe9 composent le programme \"Demain ma ville\".'],\n",
      "  u'spider_id': u'5bc4951d3ba14c5c5620146c',\n",
      "  u'tags': [u'HABITAT - URBANISME - PAYSAGE',\n",
      "            u'CAT\\xc9GORIE : EXP\\xc9RIENCES',\n",
      "            u'Habitat - Urbanisme - Paysage'],\n",
      "  u'titre du projet': [u'Le syndicat de pays de Grand-Lieu, Machecoul, Logne forme \\xe9lus et agents au d\\xe9veloppement durable'],\n",
      "  u'website': [u'http://www.stphilbert.fr/']},\n",
      " {u'_id': u'5bd089fc3ba14c3fada0561b',\n",
      "  u'added_at': 1540391415.69689,\n",
      "  u'adresse du projet': [u'Diversifier les expressions et les pratiques culturelles en pays de Pontivy Morbihan',\n",
      "                         u'Rue des fontaines',\n",
      "                         u\"Les d\\xe9put\\xe9s votent la substitution du CNDS par l'Agence nationale du sport et gonflent son budget\",\n",
      "                         u'Lancement de France Num, une plateforme nationale pour accompagner la transformation num\\xe9rique des TPE',\n",
      "                         u'56300 Pontivy',\n",
      "                         u'Volet \"finances locales\" : le point apr\\xe8s le vote par les d\\xe9put\\xe9s de la premi\\xe8re partie du texte',\n",
      "                         u\"Enfin des stats sur le poids de l'habitat priv\\xe9 dans les quartiers prioritaires !\"],\n",
      "  u'link_data': u'https://www.caissedesdepotsdesterritoires.fr/cs/ContentServer?pagename=Territoires/MCExperience/Experience&cid=1245645211211',\n",
      "  u'link_src': u'https://www.caissedesdepotsdesterritoires.fr/cs/ContentServer?pagename=Territoires/Page/Base-experiences',\n",
      "  u'r\\xe9sum\\xe9 du projet': [u'Le pays de Pontivy (56) a \\xe9labor\\xe9 un sch\\xe9ma de d\\xe9veloppement culturel intitul\\xe9 \"Projet pour la diversit\\xe9 des expressions et des pratiques culturelles\", inspir\\xe9 d\\'une d\\xe9marche d\\'Agenda 21 de la culture. Pariant sur une mobilisation des \\xe9nergies, ce projet vise \\xe0 mieux valoriser les offres culturelles existantes et \\xe0 les connecter entre elles.'],\n",
      "  u'spider_id': u'5bc4951d3ba14c5c5620146c',\n",
      "  u'tags': [u'CAT\\xc9GORIE : EXP\\xc9RIENCES',\n",
      "            u'ORGANISATION TERRITORIALE - ELUS | CULTURE - SPORTS - LOISIRS',\n",
      "            u'Organisation territoriale - Elus',\n",
      "            u'Culture - Sports - Loisirs'],\n",
      "  u'titre du projet': [u'Diversifier les expressions et les pratiques culturelles en pays de Pontivy']}]\n"
     ]
    }
   ],
   "source": [
    "print(pformat(api_data))"
   ]
  },
  {
   "cell_type": "code",
   "execution_count": 50,
   "metadata": {},
   "outputs": [
    {
     "name": "stdout",
     "output_type": "stream",
     "text": [
      "                        _id      added_at  \\\n",
      "0  5bcdc4dc3ba14c6ce4c3426e  1.540212e+09   \n",
      "1  5bd0895e3ba14c3fada0550e  1.540392e+09   \n",
      "2  5bd08f1b3ba14c3fada05cd8  1.540387e+09   \n",
      "\n",
      "                                   adresse du projet  \\\n",
      "0  [2 633 276 €, : Lorraine, FEDER, 2013, 842 634...   \n",
      "1  [Opération \"Eté Jeunes\" pour les 14-16 ans Ger...   \n",
      "2  [A Eaubonne, les jeunes en service civique aid...   \n",
      "\n",
      "                                  image(s) du projet  \\\n",
      "0  [http://www.europe-en-france.gouv.fr/var/europ...   \n",
      "1                                                NaN   \n",
      "2  [https://www.caissedesdepotsdesterritoires.fr/...   \n",
      "\n",
      "                                           link_data  \\\n",
      "0  http://www.europe-en-france.gouv.fr/Rendez-vou...   \n",
      "1  https://www.caissedesdepotsdesterritoires.fr/c...   \n",
      "2  https://www.caissedesdepotsdesterritoires.fr/c...   \n",
      "\n",
      "                                            link_src  \\\n",
      "0  http://www.europe-en-france.gouv.fr/Rendez-vou...   \n",
      "1  https://www.caissedesdepotsdesterritoires.fr/c...   \n",
      "2  https://www.caissedesdepotsdesterritoires.fr/c...   \n",
      "\n",
      "                               partenaires du projet  \\\n",
      "0  [2 633 276 €, : Lorraine, FEDER, 2013, 842 634...   \n",
      "1                                                NaN   \n",
      "2                                                NaN   \n",
      "\n",
      "                                    résumé du projet  \\\n",
      "0  [La fibre de verre, considérée comme un matéri...   \n",
      "1  [La communauté de communes Coeur de Gascogne a...   \n",
      "2  [Chaque année depuis 2014, huit jeunes sont re...   \n",
      "\n",
      "                  spider_id  \\\n",
      "0  5ac3505d0a82860f68d16288   \n",
      "1  5bc4951d3ba14c5c5620146c   \n",
      "2  5bc4951d3ba14c5c5620146c   \n",
      "\n",
      "                                  structure porteuse  \\\n",
      "0  [Thématique(s) : Attractivité du territoire ; ...   \n",
      "1                                                NaN   \n",
      "2                                                NaN   \n",
      "\n",
      "                                                tags  \\\n",
      "0  [Thématique(s) : Attractivité du territoire ; ...   \n",
      "1  [SOCIAL - SANTÉ, CATÉGORIE : EXPÉRIENCES, Soci...   \n",
      "2  [CITOYENNETÉ - ASSOCIATIONS - JEUNESSE, CATÉGO...   \n",
      "\n",
      "                                     titre du projet                   website  \n",
      "0  [Le projet Fibrastral développe une alternativ...                       NaN  \n",
      "1        [Opération \"Eté Jeunes\" pour les 14-16 ans]                       NaN  \n",
      "2  [A Eaubonne, les jeunes en service civique aid...  [http://www.eaubonne.fr]  \n"
     ]
    }
   ],
   "source": [
    "df = pd.DataFrame(api_data)\n",
    "print df.head(3)"
   ]
  },
  {
   "cell_type": "code",
   "execution_count": null,
   "metadata": {},
   "outputs": [],
   "source": []
  }
 ],
 "metadata": {
  "kernelspec": {
   "display_name": "Python 3",
   "language": "python",
   "name": "python3"
  },
  "language_info": {
   "codemirror_mode": {
    "name": "ipython",
    "version": 3
   },
   "file_extension": ".py",
   "mimetype": "text/x-python",
   "name": "python",
   "nbconvert_exporter": "python",
   "pygments_lexer": "ipython3",
   "version": "3.6.5"
  }
 },
 "nbformat": 4,
 "nbformat_minor": 2
}
